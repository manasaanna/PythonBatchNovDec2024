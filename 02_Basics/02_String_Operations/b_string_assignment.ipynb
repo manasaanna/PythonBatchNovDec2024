{
 "cells": [
  {
   "cell_type": "markdown",
   "metadata": {},
   "source": [
    "## String Operations\n"
   ]
  },
  {
   "cell_type": "code",
   "execution_count": 1,
   "metadata": {},
   "outputs": [
    {
     "name": "stdout",
     "output_type": "stream",
     "text": [
      "name[: :-1] nawahD nuraV\n"
     ]
    }
   ],
   "source": [
    "name = \"Varun Dhawan\"\n",
    "print(\"name[: :-1]\", name[: :-1])"
   ]
  },
  {
   "cell_type": "code",
   "execution_count": null,
   "metadata": {},
   "outputs": [
    {
     "name": "stdout",
     "output_type": "stream",
     "text": [
      " nura nawahD\n"
     ]
    }
   ],
   "source": [
    "print(name[5:0:-1],name[11:5:-1])"
   ]
  },
  {
   "cell_type": "code",
   "execution_count": 4,
   "metadata": {},
   "outputs": [
    {
     "name": "stdout",
     "output_type": "stream",
     "text": [
      " nawahD\n"
     ]
    }
   ],
   "source": [
    "print(name[5:-1:-1],name[11:5:-1])"
   ]
  },
  {
   "cell_type": "code",
   "execution_count": 5,
   "metadata": {},
   "outputs": [
    {
     "name": "stdout",
     "output_type": "stream",
     "text": [
      " nawahD\n"
     ]
    }
   ],
   "source": [
    "print(name[-12:-7:-1],name[11:5:-1])"
   ]
  },
  {
   "cell_type": "code",
   "execution_count": 6,
   "metadata": {},
   "outputs": [
    {
     "name": "stdout",
     "output_type": "stream",
     "text": [
      " nuraV nawahD\n"
     ]
    }
   ],
   "source": [
    "print(name[5::-1],name[11:5:-1])"
   ]
  },
  {
   "cell_type": "code",
   "execution_count": 8,
   "metadata": {},
   "outputs": [
    {
     "name": "stdout",
     "output_type": "stream",
     "text": [
      "Today is good day\n"
     ]
    }
   ],
   "source": [
    "## input = Today is good day\n",
    "## output = yadot si doog yad\n",
    "\n",
    "sen = \"Today is good day\"\n",
    "\n",
    "print(sen)"
   ]
  },
  {
   "cell_type": "code",
   "execution_count": 10,
   "metadata": {},
   "outputs": [
    {
     "name": "stdout",
     "output_type": "stream",
     "text": [
      " yadoT  si  doog yad\n"
     ]
    }
   ],
   "source": [
    "print(sen[5::-1],sen[8:5:-1],sen[13:8:-1],sen[16:13:-1])"
   ]
  }
 ],
 "metadata": {
  "kernelspec": {
   "display_name": "Python 3",
   "language": "python",
   "name": "python3"
  },
  "language_info": {
   "codemirror_mode": {
    "name": "ipython",
    "version": 3
   },
   "file_extension": ".py",
   "mimetype": "text/x-python",
   "name": "python",
   "nbconvert_exporter": "python",
   "pygments_lexer": "ipython3",
   "version": "3.12.1"
  }
 },
 "nbformat": 4,
 "nbformat_minor": 2
}
