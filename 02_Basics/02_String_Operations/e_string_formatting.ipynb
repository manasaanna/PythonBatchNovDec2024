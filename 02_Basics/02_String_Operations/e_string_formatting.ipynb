{
 "cells": [
  {
   "cell_type": "markdown",
   "metadata": {},
   "source": [
    "##String formatting\n"
   ]
  },
  {
   "cell_type": "code",
   "execution_count": 1,
   "metadata": {},
   "outputs": [
    {
     "name": "stdout",
     "output_type": "stream",
     "text": [
      "\n",
      "My lucky number is %d\n",
      "My lucky number is 12\n"
     ]
    }
   ],
   "source": [
    "#Old style, new style , f-strings\n",
    "print(\"\" %())\n",
    "print(\"My lucky number is %d\")\n",
    "print(\"My lucky number is %d\" % (12))"
   ]
  },
  {
   "cell_type": "code",
   "execution_count": 2,
   "metadata": {},
   "outputs": [
    {
     "name": "stdout",
     "output_type": "stream",
     "text": [
      "3.141592653589793\n",
      "3\n",
      "3.141593\n",
      " 3.141593\n",
      "    3.142\n"
     ]
    }
   ],
   "source": [
    "import math\n",
    "\n",
    "print(math.pi)\n",
    "print(\"%d\" % math.pi)\n",
    "print(\"%f\" % math.pi) \n",
    "print(\"%9f\" % math.pi)\n",
    "print(\"%9.3f\" % math.pi)\n",
    "\n"
   ]
  },
  {
   "cell_type": "code",
   "execution_count": 5,
   "metadata": {},
   "outputs": [
    {
     "name": "stdout",
     "output_type": "stream",
     "text": [
      "lucky My lucky number is 786 only.\n",
      "pi value is 3.141600!!!!!!!!!! \n",
      "pi value is   3.141600!!!!!!!!!! \n"
     ]
    }
   ],
   "source": [
    "print(\"lucky My lucky number is %d only.\" % 786)\n",
    "print(\"pi value is %f!!!!!!!!!! \" % 3.1416)\n",
    "print(\"pi value is %10f!!!!!!!!!! \" % 3.1416)\n"
   ]
  },
  {
   "cell_type": "code",
   "execution_count": 6,
   "metadata": {},
   "outputs": [
    {
     "name": "stdout",
     "output_type": "stream",
     "text": [
      "my name is Manasa - Anna.\n"
     ]
    }
   ],
   "source": [
    "print(\"my name is %s - %s.\" % (\"Manasa\", \"Anna\"))"
   ]
  },
  {
   "cell_type": "code",
   "execution_count": 7,
   "metadata": {},
   "outputs": [
    {
     "name": "stdout",
     "output_type": "stream",
     "text": [
      "My name is %s. I am %d old paying a tax of %f\n"
     ]
    }
   ],
   "source": [
    "print(\"My name is %s. I am %d old paying a tax of %f\")"
   ]
  },
  {
   "cell_type": "code",
   "execution_count": 8,
   "metadata": {},
   "outputs": [
    {
     "name": "stdout",
     "output_type": "stream",
     "text": [
      "My name is Manasa. I am 25 old paying a tax of 15.500000\n"
     ]
    }
   ],
   "source": [
    "print(\"My name is %s. I am %d old paying a tax of %f\" % (\"Manasa\", 25, 15.5))"
   ]
  },
  {
   "cell_type": "code",
   "execution_count": 10,
   "metadata": {},
   "outputs": [
    {
     "name": "stdout",
     "output_type": "stream",
     "text": [
      "My name is 'Manasa'. I am '78' old paying a tax of 15.5\n",
      "My name is Manasa. I am 78 old paying a tax of 15.5\n"
     ]
    }
   ],
   "source": [
    "print(\"My name is %r. I am %r old paying a tax of %r\" % (\"Manasa\", \"78\", 15.5))\n",
    "print(\"My name is %s. I am %s old paying a tax of %s\" % (\"Manasa\", \"78\", 15.5))\n",
    "\n"
   ]
  },
  {
   "cell_type": "markdown",
   "metadata": {},
   "source": [
    "##new style formatting"
   ]
  },
  {
   "cell_type": "code",
   "execution_count": 11,
   "metadata": {},
   "outputs": [
    {
     "name": "stdout",
     "output_type": "stream",
     "text": [
      "\n",
      "\n"
     ]
    }
   ],
   "source": [
    "print(\"\"%())\n",
    "print(\"{}\".format(\"\"))\n",
    "# print(format(\"{}\"))"
   ]
  },
  {
   "cell_type": "code",
   "execution_count": 12,
   "metadata": {},
   "outputs": [
    {
     "name": "stdout",
     "output_type": "stream",
     "text": [
      "Manasa\n",
      "{}\n",
      "{Manasa}\n"
     ]
    }
   ],
   "source": [
    "print(\"{}\".format(\"Manasa\"))\n",
    "print(\"{{}}\".format(\"Manasa\"))\n",
    "print(\"{{{}}}\".format(\"Manasa\"))"
   ]
  },
  {
   "cell_type": "code",
   "execution_count": 14,
   "metadata": {},
   "outputs": [
    {
     "name": "stdout",
     "output_type": "stream",
     "text": [
      "cat and mouse\n",
      "213 and mouse\n",
      "213.0 and True\n",
      "None and True\n"
     ]
    }
   ],
   "source": [
    "print(\"{} and {}\".format(\"cat\", \"mouse\"))\n",
    "print(\"{} and {}\".format(213, \"mouse\"))\n",
    "print(\"{} and {}\".format(213.0, True))\n",
    "print(\"{} and {}\".format(None, True))"
   ]
  },
  {
   "cell_type": "code",
   "execution_count": 17,
   "metadata": {},
   "outputs": [
    {
     "name": "stdout",
     "output_type": "stream",
     "text": [
      "1234567890.88\n",
      "1234567890.88\n",
      "1,234,567,890.88\n",
      "1_234_567_890.88\n",
      "1234567890.88\n",
      "+1234567890.88\n",
      "-1234567890.88\n"
     ]
    }
   ],
   "source": [
    "print(\"{}\".format(1234567890.88))\n",
    "print(\"{:}\".format(1234567890.88))\n",
    "print(\"{:,}\".format(1234567890.88))\n",
    "print(\"{:_}\".format(1234567890.88))\n",
    "print(\"{:-}\".format(1234567890.88))\n",
    "print(\"{:+}\".format(1234567890.88))\n",
    "print(\"{:+}\".format(-1234567890.88))"
   ]
  },
  {
   "cell_type": "markdown",
   "metadata": {},
   "source": [
    "##f_strings"
   ]
  },
  {
   "cell_type": "code",
   "execution_count": 18,
   "metadata": {},
   "outputs": [
    {
     "name": "stdout",
     "output_type": "stream",
     "text": [
      "\n"
     ]
    }
   ],
   "source": [
    "print(f'{\"\"}')"
   ]
  },
  {
   "cell_type": "code",
   "execution_count": 20,
   "metadata": {},
   "outputs": [
    {
     "name": "stdout",
     "output_type": "stream",
     "text": [
      "1234567890.88\n",
      "1234567890.88\n",
      "1,234,567,890.88\n",
      "1234567890.88\n",
      "1234567890.88\n",
      "+1234567890.88\n"
     ]
    }
   ],
   "source": [
    "value = 1234567890.88\n",
    "print(f\"{value}\")\n",
    "print(f\"{value:}\")\n",
    "print(f\"{value:,}\") \n",
    "print(f\"{value:}\") \n",
    "print(f\"{value :-}\") \n",
    "print(f\"{value:+}\")\n"
   ]
  }
 ],
 "metadata": {
  "kernelspec": {
   "display_name": "Python 3",
   "language": "python",
   "name": "python3"
  },
  "language_info": {
   "codemirror_mode": {
    "name": "ipython",
    "version": 3
   },
   "file_extension": ".py",
   "mimetype": "text/x-python",
   "name": "python",
   "nbconvert_exporter": "python",
   "pygments_lexer": "ipython3",
   "version": "3.12.1"
  }
 },
 "nbformat": 4,
 "nbformat_minor": 2
}
