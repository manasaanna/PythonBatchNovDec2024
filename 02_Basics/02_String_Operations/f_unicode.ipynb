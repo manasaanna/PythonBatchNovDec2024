{
 "cells": [
  {
   "cell_type": "code",
   "execution_count": 2,
   "metadata": {},
   "outputs": [
    {
     "name": "stdout",
     "output_type": "stream",
     "text": [
      "ord('A') =65\n",
      "ord('B') =66\n",
      "ord('C') =67\n",
      "ord('Y') =89\n",
      "ord('Z') =90\n"
     ]
    }
   ],
   "source": [
    "print(f\"{ord('A') =}\")\n",
    "print(f\"{ord('B') =}\")\n",
    "print(f\"{ord('C') =}\")\n",
    "\n",
    "print(f\"{ord('Y') =}\")\n",
    "print(f\"{ord('Z') =}\")"
   ]
  }
 ],
 "metadata": {
  "kernelspec": {
   "display_name": "Python 3",
   "language": "python",
   "name": "python3"
  },
  "language_info": {
   "codemirror_mode": {
    "name": "ipython",
    "version": 3
   },
   "file_extension": ".py",
   "mimetype": "text/x-python",
   "name": "python",
   "nbconvert_exporter": "python",
   "pygments_lexer": "ipython3",
   "version": "3.12.1"
  }
 },
 "nbformat": 4,
 "nbformat_minor": 2
}
