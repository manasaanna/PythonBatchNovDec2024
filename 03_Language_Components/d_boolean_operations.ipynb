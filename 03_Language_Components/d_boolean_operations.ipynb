{
 "cells": [
  {
   "cell_type": "markdown",
   "metadata": {},
   "source": [
    "## Boolean\n"
   ]
  },
  {
   "cell_type": "code",
   "execution_count": 1,
   "metadata": {},
   "outputs": [
    {
     "data": {
      "text/plain": [
       "True"
      ]
     },
     "execution_count": 1,
     "metadata": {},
     "output_type": "execute_result"
    }
   ],
   "source": [
    "True"
   ]
  },
  {
   "cell_type": "code",
   "execution_count": 2,
   "metadata": {},
   "outputs": [
    {
     "data": {
      "text/plain": [
       "False"
      ]
     },
     "execution_count": 2,
     "metadata": {},
     "output_type": "execute_result"
    }
   ],
   "source": [
    "False"
   ]
  },
  {
   "cell_type": "code",
   "execution_count": 3,
   "metadata": {},
   "outputs": [
    {
     "ename": "NameError",
     "evalue": "name 'true' is not defined",
     "output_type": "error",
     "traceback": [
      "\u001b[0;31m---------------------------------------------------------------------------\u001b[0m",
      "\u001b[0;31mNameError\u001b[0m                                 Traceback (most recent call last)",
      "Cell \u001b[0;32mIn[3], line 1\u001b[0m\n\u001b[0;32m----> 1\u001b[0m \u001b[43mtrue\u001b[49m\n",
      "\u001b[0;31mNameError\u001b[0m: name 'true' is not defined"
     ]
    }
   ],
   "source": [
    "true"
   ]
  },
  {
   "cell_type": "code",
   "execution_count": 4,
   "metadata": {},
   "outputs": [
    {
     "name": "stdout",
     "output_type": "stream",
     "text": [
      "choice= True <class 'bool'> 102192760497056\n"
     ]
    }
   ],
   "source": [
    "choice = True\n",
    "print(\"choice=\", choice, type(choice), id(choice))"
   ]
  },
  {
   "cell_type": "code",
   "execution_count": 5,
   "metadata": {},
   "outputs": [
    {
     "name": "stdout",
     "output_type": "stream",
     "text": [
      "choice= False <class 'bool'> 102192760497088\n"
     ]
    }
   ],
   "source": [
    "choice = False\n",
    "print(\"choice=\", choice, type(choice), id(choice))"
   ]
  },
  {
   "cell_type": "code",
   "execution_count": 6,
   "metadata": {},
   "outputs": [
    {
     "name": "stdout",
     "output_type": "stream",
     "text": [
      "choice= True <class 'str'> 102192761556640\n"
     ]
    }
   ],
   "source": [
    "choice = \"True\"\n",
    "print(\"choice=\", choice, type(choice), id(choice))"
   ]
  },
  {
   "cell_type": "code",
   "execution_count": 7,
   "metadata": {},
   "outputs": [
    {
     "name": "stdout",
     "output_type": "stream",
     "text": [
      "choice= 23456 <class 'int'> 129425028967376\n"
     ]
    }
   ],
   "source": [
    "choice = 23456\n",
    "print(\"choice=\", choice, type(choice), id(choice))"
   ]
  },
  {
   "cell_type": "code",
   "execution_count": 8,
   "metadata": {},
   "outputs": [
    {
     "ename": "SyntaxError",
     "evalue": "cannot assign to True (1477454045.py, line 1)",
     "output_type": "error",
     "traceback": [
      "\u001b[0;36m  Cell \u001b[0;32mIn[8], line 1\u001b[0;36m\u001b[0m\n\u001b[0;31m    True = \"Manasa\"\u001b[0m\n\u001b[0m    ^\u001b[0m\n\u001b[0;31mSyntaxError\u001b[0m\u001b[0;31m:\u001b[0m cannot assign to True\n"
     ]
    }
   ],
   "source": [
    "True = \"Manasa\""
   ]
  },
  {
   "cell_type": "code",
   "execution_count": 9,
   "metadata": {},
   "outputs": [
    {
     "name": "stdout",
     "output_type": "stream",
     "text": [
      "True =  True\n",
      "True * 30 =  30\n",
      "True * 3.4 =  3.4\n"
     ]
    }
   ],
   "source": [
    "print(\"True = \", True)\n",
    "print(\"True * 30 = \", True * 30)\n",
    "print(\"True * 3.4 = \", True * 3.4) # True has a value of one\n"
   ]
  },
  {
   "cell_type": "code",
   "execution_count": 10,
   "metadata": {},
   "outputs": [
    {
     "name": "stdout",
     "output_type": "stream",
     "text": [
      "False  False\n",
      "False * 30 =  0\n"
     ]
    }
   ],
   "source": [
    "print(\"False \", False)\n",
    "print(\"False * 30 = \", False * 30) # False has a value of zero"
   ]
  },
  {
   "cell_type": "code",
   "execution_count": 12,
   "metadata": {},
   "outputs": [
    {
     "name": "stdout",
     "output_type": "stream",
     "text": [
      "True == 1  True\n",
      "True == 3  False\n",
      "True != 3  True\n"
     ]
    }
   ],
   "source": [
    "print(\"True == 1 \", True == 1)\n",
    "print(\"True == 3 \", True == 3)\n",
    "print(\"True != 3 \", True != 3)"
   ]
  },
  {
   "cell_type": "code",
   "execution_count": 13,
   "metadata": {},
   "outputs": [
    {
     "name": "stdout",
     "output_type": "stream",
     "text": [
      "False == 0  True\n",
      "False == 3  False\n",
      "False != 3  True\n"
     ]
    }
   ],
   "source": [
    "print(\"False == 0 \", False == 0)\n",
    "print(\"False == 3 \", False == 3)\n",
    "print(\"False != 3 \", False != 3)"
   ]
  },
  {
   "cell_type": "code",
   "execution_count": 14,
   "metadata": {},
   "outputs": [
    {
     "name": "stdout",
     "output_type": "stream",
     "text": [
      "bool(12)  True\n",
      "bool(-12)  True\n",
      "bool(0)  False\n",
      "\n",
      "bool(0.00000000)  False\n",
      "bool(0.000000001)  True\n",
      "bool(-0.000000001) True\n"
     ]
    }
   ],
   "source": [
    "print(\"bool(12) \", bool(12))\n",
    "print(\"bool(-12) \", bool(-12))\n",
    "print(\"bool(0) \", bool(0))\n",
    "print()\n",
    "\n",
    "print(\"bool(0.00000000) \",bool(0.00000000))\n",
    "print(\"bool(0.000000001) \", bool(0.000000001))\n",
    "print(\"bool(-0.000000001)\", bool(-0.000000001))\n",
    "\n"
   ]
  },
  {
   "cell_type": "code",
   "execution_count": 15,
   "metadata": {},
   "outputs": [
    {
     "name": "stdout",
     "output_type": "stream",
     "text": [
      "(1)  True\n",
      "(1,)  True\n",
      "[1]  True\n",
      "{1}  True\n",
      "{1:2}  True\n"
     ]
    }
   ],
   "source": [
    "# braces\n",
    "# [], 0,0\n",
    "print(\"(1) \",bool((1)))\n",
    "print(\"(1,) \",bool((1,)))\n",
    "print(\"[1] \", bool([1]))\n",
    "print(\"{1} \", bool({1}))\n",
    "print(\"{1:2} \", bool({1: 2}))\n",
    "\n"
   ]
  }
 ],
 "metadata": {
  "kernelspec": {
   "display_name": "Python 3",
   "language": "python",
   "name": "python3"
  },
  "language_info": {
   "codemirror_mode": {
    "name": "ipython",
    "version": 3
   },
   "file_extension": ".py",
   "mimetype": "text/x-python",
   "name": "python",
   "nbconvert_exporter": "python",
   "pygments_lexer": "ipython3",
   "version": "3.12.1"
  }
 },
 "nbformat": 4,
 "nbformat_minor": 2
}
