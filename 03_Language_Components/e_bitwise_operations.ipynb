{
 "cells": [
  {
   "cell_type": "code",
   "execution_count": 1,
   "metadata": {},
   "outputs": [
    {
     "name": "stdout",
     "output_type": "stream",
     "text": [
      "num1= 60 0b111100\n",
      "num2= 13 0b1101\n"
     ]
    }
   ],
   "source": [
    "num1 = 60\n",
    "num2 = 13\n",
    "\n",
    "print(\"num1=\", num1, bin(num1)) # 0b111100\n",
    "print(\"num2=\", num2, bin(num2)) # 0b1101\n"
   ]
  },
  {
   "cell_type": "code",
   "execution_count": 2,
   "metadata": {},
   "outputs": [
    {
     "name": "stdout",
     "output_type": "stream",
     "text": [
      "Line 1 - Value of num3 is  12\n"
     ]
    }
   ],
   "source": [
    "num3 = num1 & num2 # 12 = 0000.1100\n",
    "print(\"Line 1 - Value of num3 is \", num3)"
   ]
  },
  {
   "cell_type": "code",
   "execution_count": null,
   "metadata": {},
   "outputs": [],
   "source": []
  }
 ],
 "metadata": {
  "kernelspec": {
   "display_name": "Python 3",
   "language": "python",
   "name": "python3"
  },
  "language_info": {
   "codemirror_mode": {
    "name": "ipython",
    "version": 3
   },
   "file_extension": ".py",
   "mimetype": "text/x-python",
   "name": "python",
   "nbconvert_exporter": "python",
   "pygments_lexer": "ipython3",
   "version": "3.12.1"
  }
 },
 "nbformat": 4,
 "nbformat_minor": 2
}
