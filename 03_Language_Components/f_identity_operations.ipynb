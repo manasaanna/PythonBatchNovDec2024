{
 "cells": [
  {
   "cell_type": "code",
   "execution_count": 2,
   "metadata": {},
   "outputs": [
    {
     "data": {
      "text/plain": [
       "True"
      ]
     },
     "execution_count": 2,
     "metadata": {},
     "output_type": "execute_result"
    }
   ],
   "source": [
    "4 ==4"
   ]
  },
  {
   "cell_type": "code",
   "execution_count": 3,
   "metadata": {},
   "outputs": [
    {
     "data": {
      "text/plain": [
       "True"
      ]
     },
     "execution_count": 3,
     "metadata": {},
     "output_type": "execute_result"
    }
   ],
   "source": [
    "'4' == '4'"
   ]
  },
  {
   "cell_type": "code",
   "execution_count": 4,
   "metadata": {},
   "outputs": [
    {
     "data": {
      "text/plain": [
       "False"
      ]
     },
     "execution_count": 4,
     "metadata": {},
     "output_type": "execute_result"
    }
   ],
   "source": [
    "4 == '4'"
   ]
  },
  {
   "cell_type": "code",
   "execution_count": 5,
   "metadata": {},
   "outputs": [],
   "source": [
    "num1 = 100\n",
    "num2 = 200"
   ]
  },
  {
   "cell_type": "code",
   "execution_count": 10,
   "metadata": {},
   "outputs": [
    {
     "name": "stdout",
     "output_type": "stream",
     "text": [
      "num1 == num2 = False\n",
      "num1 is num2= False\n",
      "id(num1)=98365158704136\tid(num2)= 98365158707336\n"
     ]
    }
   ],
   "source": [
    "print(f\"{num1 == num2 = }\")\n",
    "print(f\"{num1 is num2= }\")\n",
    "print(f\"{id(num1)=}\\t{id(num2)= }\")"
   ]
  },
  {
   "cell_type": "code",
   "execution_count": 11,
   "metadata": {},
   "outputs": [],
   "source": [
    "num1= 200"
   ]
  },
  {
   "cell_type": "code",
   "execution_count": 12,
   "metadata": {},
   "outputs": [
    {
     "name": "stdout",
     "output_type": "stream",
     "text": [
      "num1=200\n",
      "num2=200\n",
      "num1 == num2=True\n",
      "num1 is num2=True\n",
      "id(num1)=98365158707336\tid(num2)=98365158707336\n"
     ]
    }
   ],
   "source": [
    "print(f\"{num1=}\")\n",
    "print(f\"{num2=}\")\n",
    "print(f\"{num1 == num2=}\")\n",
    "print(f\"{num1 is num2=}\")\n",
    "print(f\"{id(num1)=}\\t{id(num2)=}\")"
   ]
  },
  {
   "cell_type": "code",
   "execution_count": 13,
   "metadata": {},
   "outputs": [],
   "source": [
    "num3 = 300"
   ]
  },
  {
   "cell_type": "code",
   "execution_count": 14,
   "metadata": {},
   "outputs": [],
   "source": [
    "num4 = 300"
   ]
  },
  {
   "cell_type": "code",
   "execution_count": 15,
   "metadata": {},
   "outputs": [
    {
     "name": "stdout",
     "output_type": "stream",
     "text": [
      "num3=300\t num4=300\n",
      "num3 == num4=True\n",
      "num3 is num4=False\n",
      "id(num3)=125949318281616\t id(num4)=125949318282320\n"
     ]
    }
   ],
   "source": [
    "print(f\"{num3=}\\t {num4=}\")\n",
    "print(f\"{num3 == num4=}\")\n",
    "print(f\"{num3 is num4=}\")\n",
    "print(f\"{id(num3)=}\\t {id(num4)=}\")"
   ]
  },
  {
   "cell_type": "code",
   "execution_count": 16,
   "metadata": {},
   "outputs": [
    {
     "name": "stdout",
     "output_type": "stream",
     "text": [
      "num3=300.33 \t num4=300.33\n",
      "num3 == num4=True\n",
      "num3 is num4=False\n",
      "id(num3)=125949400497936\t id(num4)=125949402576656\n"
     ]
    }
   ],
   "source": [
    "num3 = 300.33\n",
    "num4 = 300.33\n",
    "print(f\"{num3=} \\t {num4=}\")\n",
    "print(f\"{num3 == num4=}\")\n",
    "print(f\"{num3 is num4=}\")\n",
    "print(f\"{id(num3)=}\\t {id(num4)=}\")"
   ]
  },
  {
   "cell_type": "code",
   "execution_count": 17,
   "metadata": {},
   "outputs": [
    {
     "name": "stdout",
     "output_type": "stream",
     "text": [
      "num3=12.33 \t num4=12.33\n",
      "num3 == num4=True\n",
      "num3 is num4=False\n",
      "id(num3)=125949402575056\t id(num4)=125949318273520\n"
     ]
    }
   ],
   "source": [
    "num3 = 12.33\n",
    "num4 = 12.33\n",
    "print(f\"{num3=} \\t {num4=}\")\n",
    "print(f\"{num3 == num4=}\")\n",
    "print(f\"{num3 is num4=}\")\n",
    "print(f\"{id(num3)=}\\t {id(num4)=}\")"
   ]
  },
  {
   "cell_type": "code",
   "execution_count": 18,
   "metadata": {},
   "outputs": [
    {
     "name": "stdout",
     "output_type": "stream",
     "text": [
      "num3=[1, 2, 3] \t num4=[1, 2, 3]\n",
      "num3 == num4=True\n",
      "num3 is num4=False\n",
      "id(num3)=125949317378112\tid(num4)=125949317504384\n"
     ]
    }
   ],
   "source": [
    "num3 = [1, 2, 3] # mutable\n",
    "num4 = [1, 2, 3]\n",
    "print(f\"{num3=} \\t {num4=}\")\n",
    "print(f\"{num3 == num4=}\")\n",
    "print(f\"{num3 is num4=}\")\n",
    "print(f\"{id(num3)=}\\t{id(num4)=}\")"
   ]
  },
  {
   "cell_type": "code",
   "execution_count": 19,
   "metadata": {},
   "outputs": [
    {
     "name": "stdout",
     "output_type": "stream",
     "text": [
      "num3=(1, 2, 3) \t num4=[1, 2, 3]\n",
      "num3 == num4=False\n",
      "num3 is num4=False\n",
      "id(num3)=125949317128256\t id(num4) =125949317504384\n"
     ]
    }
   ],
   "source": [
    "num3 = (1, 2, 3)\n",
    "# immutable\n",
    "\n",
    "print(f\"{num3=} \\t {num4=}\")\n",
    "print(f\"{num3 == num4=}\")\n",
    "print(f\"{num3 is num4=}\")\n",
    "print(f\"{id(num3)=}\\t {id(num4) =}\")\n",
    "\n",
    "num4 = (1, 2, 3)"
   ]
  }
 ],
 "metadata": {
  "kernelspec": {
   "display_name": "Python 3",
   "language": "python",
   "name": "python3"
  },
  "language_info": {
   "codemirror_mode": {
    "name": "ipython",
    "version": 3
   },
   "file_extension": ".py",
   "mimetype": "text/x-python",
   "name": "python",
   "nbconvert_exporter": "python",
   "pygments_lexer": "ipython3",
   "version": "3.12.1"
  }
 },
 "nbformat": 4,
 "nbformat_minor": 2
}
