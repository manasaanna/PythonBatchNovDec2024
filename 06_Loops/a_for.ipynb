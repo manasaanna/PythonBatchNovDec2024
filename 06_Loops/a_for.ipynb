{
 "cells": [
  {
   "cell_type": "markdown",
   "metadata": {},
   "source": [
    "##For loop"
   ]
  },
  {
   "cell_type": "code",
   "execution_count": 1,
   "metadata": {},
   "outputs": [
    {
     "name": "stdout",
     "output_type": "stream",
     "text": [
      "Index: 0, Value: 5\n",
      "Index: 1, Value: 6\n",
      "Index: 2, Value: 7\n",
      "Index: 3, Value: 8\n",
      "Index: 4, Value: 9\n"
     ]
    }
   ],
   "source": [
    "for index, value in enumerate(range(5, 10)):\n",
    "    print(f\"Index: {index}, Value: {value}\")\n"
   ]
  }
 ],
 "metadata": {
  "kernelspec": {
   "display_name": "Python 3",
   "language": "python",
   "name": "python3"
  },
  "language_info": {
   "codemirror_mode": {
    "name": "ipython",
    "version": 3
   },
   "file_extension": ".py",
   "mimetype": "text/x-python",
   "name": "python",
   "nbconvert_exporter": "python",
   "pygments_lexer": "ipython3",
   "version": "3.12.1"
  }
 },
 "nbformat": 4,
 "nbformat_minor": 2
}
