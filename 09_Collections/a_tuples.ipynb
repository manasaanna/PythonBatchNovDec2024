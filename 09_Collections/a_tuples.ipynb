{
 "cells": [
  {
   "cell_type": "markdown",
   "metadata": {},
   "source": [
    "## Tuple\n"
   ]
  },
  {
   "cell_type": "code",
   "execution_count": 1,
   "metadata": {},
   "outputs": [
    {
     "name": "stdout",
     "output_type": "stream",
     "text": [
      "type(mylist) <class 'list'>\n",
      "len(mylist) 5\n",
      "\n",
      "type(mytuple) <class 'tuple'>\n",
      "len(mytuple) 5\n",
      "(12, 34.8, 500000, [6, 8], (5,))\n"
     ]
    }
   ],
   "source": [
    "mylist = [12, 34.8, 500000, [6, 8], (5,)]\n",
    "print(\"type(mylist)\", type(mylist))\n",
    "print(\"len(mylist)\", len(mylist))\n",
    "\n",
    "mytuple = (12, 34.8, 500000, [6, 8], (5,))\n",
    "print(\"\\ntype(mytuple)\", type(mytuple))\n",
    "print(\"len(mytuple)\", len(mytuple))\n",
    "print(mytuple)"
   ]
  },
  {
   "cell_type": "code",
   "execution_count": 5,
   "metadata": {},
   "outputs": [
    {
     "name": "stdout",
     "output_type": "stream",
     "text": [
      "str(mytuple) = (12, 34.8, 500000, [6, 8], (5,))\n",
      "type(str(mytuple)) <class 'str'>\n",
      "mytuple._ str_() =  (12, 34.8, 500000, [6, 8], (5,))\n",
      "type(mytuple._str_()) = <class 'str'>\n"
     ]
    }
   ],
   "source": [
    "print(\"str(mytuple) =\", str(mytuple))\n",
    "print(\"type(str(mytuple))\", type(str(mytuple)))\n",
    "print(\"mytuple._ str_() = \", mytuple.__str__())\n",
    "print(\"type(mytuple._str_()) =\", type(mytuple.__str__()))\n",
    "assert str(mytuple) == mytuple.__str__()\n",
    "\n"
   ]
  },
  {
   "cell_type": "code",
   "execution_count": 6,
   "metadata": {},
   "outputs": [
    {
     "name": "stdout",
     "output_type": "stream",
     "text": [
      "mytuple.count(5) = (12, 5, 6, 8, (5,))\n",
      "mytuple = 1\n"
     ]
    }
   ],
   "source": [
    "mytuple = (12, 5, 6, 8, (5,))\n",
    "\n",
    "\n",
    "print(\"mytuple.count(5) =\", mytuple)\n",
    "print(\"mytuple =\", mytuple.count(5))\n",
    "\n"
   ]
  },
  {
   "cell_type": "code",
   "execution_count": 9,
   "metadata": {},
   "outputs": [
    {
     "name": "stdout",
     "output_type": "stream",
     "text": [
      "mytuple.count(5) = (12, 5, 6, 8, 5)\n",
      "mytuple = 2\n"
     ]
    }
   ],
   "source": [
    "import collections\n",
    "mytuple = (12, 5, 6, 8, (5))\n",
    "\n",
    "\n",
    "print(\"mytuple.count(5) =\", mytuple)\n",
    "print(\"mytuple =\", mytuple.count(5))"
   ]
  },
  {
   "cell_type": "code",
   "execution_count": 10,
   "metadata": {},
   "outputs": [],
   "source": [
    "Students = collections.namedtuple(\"Students\", (\"name\", \"age\", \"dob\") )\n"
   ]
  },
  {
   "cell_type": "code",
   "execution_count": 11,
   "metadata": {},
   "outputs": [],
   "source": [
    "# Step 2: create tuples using that object\n",
    "student_details2 = Students(\"Arjun\", 26, \"23/07/1992\")"
   ]
  },
  {
   "cell_type": "code",
   "execution_count": 15,
   "metadata": {},
   "outputs": [
    {
     "name": "stdout",
     "output_type": "stream",
     "text": [
      "getattr(student_details2,'dob') = '23/07/1992'\n"
     ]
    }
   ],
   "source": [
    "if hasattr(student_details2, \"full_name\"):\n",
    "    getattr(student_details2, \"full_name\")\n",
    "\n",
    "if hasattr(student_details2, \"dob\"):\n",
    "    print(f\"{getattr(student_details2,'dob') = }\")"
   ]
  }
 ],
 "metadata": {
  "kernelspec": {
   "display_name": "Python 3",
   "language": "python",
   "name": "python3"
  },
  "language_info": {
   "codemirror_mode": {
    "name": "ipython",
    "version": 3
   },
   "file_extension": ".py",
   "mimetype": "text/x-python",
   "name": "python",
   "nbconvert_exporter": "python",
   "pygments_lexer": "ipython3",
   "version": "3.12.1"
  }
 },
 "nbformat": 4,
 "nbformat_minor": 2
}
