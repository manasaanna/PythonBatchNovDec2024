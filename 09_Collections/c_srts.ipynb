{
 "cells": [
  {
   "cell_type": "code",
   "execution_count": null,
   "metadata": {},
   "outputs": [],
   "source": [
    "#Sets\n",
    "\n",
    "#Properties of sets\n",
    "#- creating using {} or set()\n",
    "#- can't store duplicates\n",
    "#- sets are unordered\n",
    "#- can't be indexed\n",
    "#- Empty sets need to be represented using set()\n",
    "#- stores only immutable object - basic types, tuple, string\n",
    "#- sets are mutable objects"
   ]
  },
  {
   "cell_type": "code",
   "execution_count": 1,
   "metadata": {},
   "outputs": [
    {
     "name": "stdout",
     "output_type": "stream",
     "text": [
      "type(running_ports) <class 'list'>\n",
      "len(running_ports)  9\n",
      "running_ports  [11, 22, 11, 44, 22, 11, 11, 44, 22]\n"
     ]
    }
   ],
   "source": [
    "\n",
    "running_ports = [11, 22, 11, 44, 22, 11, 11, 44, 22]\n",
    "print(\"type(running_ports)\", type(running_ports))\n",
    "print(\"len(running_ports) \", len(running_ports))\n",
    "print(\"running_ports \", running_ports)"
   ]
  },
  {
   "cell_type": "code",
   "execution_count": 3,
   "metadata": {},
   "outputs": [
    {
     "name": "stdout",
     "output_type": "stream",
     "text": [
      "{11, 44, 22}\n"
     ]
    }
   ],
   "source": [
    "\n",
    "running_ports = {11, 22, 11, 44, 22, 11, 11, 44, 22}\n",
    "print(running_ports)"
   ]
  },
  {
   "cell_type": "code",
   "execution_count": 1,
   "metadata": {},
   "outputs": [
    {
     "name": "stdout",
     "output_type": "stream",
     "text": [
      "s1={1, 2, 3} -<class 'set'>\n",
      "s2={1, 2, 3}-<class 'set'>\n"
     ]
    }
   ],
   "source": [
    "# Defining sets with some values\n",
    "s1 = {1, 2,3}\n",
    "s2 = set([1,2,3])\n",
    "\n",
    "print(f\"{s1=} -{type(s1)}\")\n",
    "print(f\"{s2=}-{type(s2)}\")\n",
    "assert s1 == s2"
   ]
  }
 ],
 "metadata": {
  "kernelspec": {
   "display_name": "Python 3",
   "language": "python",
   "name": "python3"
  },
  "language_info": {
   "codemirror_mode": {
    "name": "ipython",
    "version": 3
   },
   "file_extension": ".py",
   "mimetype": "text/x-python",
   "name": "python",
   "nbconvert_exporter": "python",
   "pygments_lexer": "ipython3",
   "version": "3.12.1"
  }
 },
 "nbformat": 4,
 "nbformat_minor": 2
}
