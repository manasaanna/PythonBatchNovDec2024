{
 "cells": [
  {
   "cell_type": "code",
   "execution_count": null,
   "metadata": {},
   "outputs": [],
   "source": [
    "# Assignment\n",
    "\n",
    "\n",
    "# caesar cipher\n",
    "\n",
    "\n",
    "# A B C D E F G H I J    Y Z\n",
    "# 0 1 2 3 4 5 6 7\n",
    "# D E F\n",
    "\n",
    "\n",
    "\n",
    "\n",
    "# Ex: egg => hjj\n",
    "#bindu => elqg\n",
    "#Yash => bd ..\n",
    "\n"
   ]
  }
 ],
 "metadata": {
  "kernelspec": {
   "display_name": "Python 3",
   "language": "python",
   "name": "python3"
  },
  "language_info": {
   "name": "python",
   "version": "3.12.1"
  }
 },
 "nbformat": 4,
 "nbformat_minor": 2
}
